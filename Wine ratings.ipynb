{
 "cells": [
  {
   "cell_type": "code",
   "execution_count": 2,
   "metadata": {},
   "outputs": [
    {
     "data": {
      "text/html": [
       "<div>\n",
       "<style scoped>\n",
       "    .dataframe tbody tr th:only-of-type {\n",
       "        vertical-align: middle;\n",
       "    }\n",
       "\n",
       "    .dataframe tbody tr th {\n",
       "        vertical-align: top;\n",
       "    }\n",
       "\n",
       "    .dataframe thead th {\n",
       "        text-align: right;\n",
       "    }\n",
       "</style>\n",
       "<table border=\"1\" class=\"dataframe\">\n",
       "  <thead>\n",
       "    <tr style=\"text-align: right;\">\n",
       "      <th></th>\n",
       "      <th>id</th>\n",
       "      <th>country</th>\n",
       "      <th>description</th>\n",
       "      <th>designation</th>\n",
       "      <th>points</th>\n",
       "      <th>price</th>\n",
       "      <th>province</th>\n",
       "      <th>region_1</th>\n",
       "      <th>region_2</th>\n",
       "      <th>taster_name</th>\n",
       "      <th>taster_twitter_handle</th>\n",
       "      <th>title</th>\n",
       "      <th>variety</th>\n",
       "      <th>winery</th>\n",
       "    </tr>\n",
       "  </thead>\n",
       "  <tbody>\n",
       "    <tr>\n",
       "      <th>0</th>\n",
       "      <td>0</td>\n",
       "      <td>Italy</td>\n",
       "      <td>Aromas include tropical fruit, broom, brimston...</td>\n",
       "      <td>VulkÌÊ Bianco</td>\n",
       "      <td>87</td>\n",
       "      <td>NaN</td>\n",
       "      <td>Sicily &amp; Sardinia</td>\n",
       "      <td>Etna</td>\n",
       "      <td>NaN</td>\n",
       "      <td>Kerin OÛªKeefe</td>\n",
       "      <td>@kerinokeefe</td>\n",
       "      <td>Nicosia 2013 VulkÌÊ Bianco  (Etna)</td>\n",
       "      <td>White Blend</td>\n",
       "      <td>Nicosia</td>\n",
       "    </tr>\n",
       "    <tr>\n",
       "      <th>1</th>\n",
       "      <td>1</td>\n",
       "      <td>Portugal</td>\n",
       "      <td>This is ripe and fruity, a wine that is smooth...</td>\n",
       "      <td>Avidagos</td>\n",
       "      <td>87</td>\n",
       "      <td>15.0</td>\n",
       "      <td>Douro</td>\n",
       "      <td>NaN</td>\n",
       "      <td>NaN</td>\n",
       "      <td>Roger Voss</td>\n",
       "      <td>@vossroger</td>\n",
       "      <td>Quinta dos Avidagos 2011 Avidagos Red (Douro)</td>\n",
       "      <td>Portuguese Red</td>\n",
       "      <td>Quinta dos Avidagos</td>\n",
       "    </tr>\n",
       "    <tr>\n",
       "      <th>2</th>\n",
       "      <td>2</td>\n",
       "      <td>US</td>\n",
       "      <td>Tart and snappy, the flavors of lime flesh and...</td>\n",
       "      <td>NaN</td>\n",
       "      <td>87</td>\n",
       "      <td>14.0</td>\n",
       "      <td>Oregon</td>\n",
       "      <td>Willamette Valley</td>\n",
       "      <td>Willamette Valley</td>\n",
       "      <td>Paul Gregutt</td>\n",
       "      <td>@paulgwineåÊ</td>\n",
       "      <td>Rainstorm 2013 Pinot Gris (Willamette Valley)</td>\n",
       "      <td>Pinot Gris</td>\n",
       "      <td>Rainstorm</td>\n",
       "    </tr>\n",
       "    <tr>\n",
       "      <th>3</th>\n",
       "      <td>3</td>\n",
       "      <td>US</td>\n",
       "      <td>Pineapple rind, lemon pith and orange blossom ...</td>\n",
       "      <td>Reserve Late Harvest</td>\n",
       "      <td>87</td>\n",
       "      <td>13.0</td>\n",
       "      <td>Michigan</td>\n",
       "      <td>Lake Michigan Shore</td>\n",
       "      <td>NaN</td>\n",
       "      <td>Alexander Peartree</td>\n",
       "      <td>NaN</td>\n",
       "      <td>St. Julian 2013 Reserve Late Harvest Riesling ...</td>\n",
       "      <td>Riesling</td>\n",
       "      <td>St. Julian</td>\n",
       "    </tr>\n",
       "    <tr>\n",
       "      <th>4</th>\n",
       "      <td>4</td>\n",
       "      <td>US</td>\n",
       "      <td>Much like the regular bottling from 2012, this...</td>\n",
       "      <td>Vintner's Reserve Wild Child Block</td>\n",
       "      <td>87</td>\n",
       "      <td>65.0</td>\n",
       "      <td>Oregon</td>\n",
       "      <td>Willamette Valley</td>\n",
       "      <td>Willamette Valley</td>\n",
       "      <td>Paul Gregutt</td>\n",
       "      <td>@paulgwineåÊ</td>\n",
       "      <td>Sweet Cheeks 2012 Vintner's Reserve Wild Child...</td>\n",
       "      <td>Pinot Noir</td>\n",
       "      <td>Sweet Cheeks</td>\n",
       "    </tr>\n",
       "  </tbody>\n",
       "</table>\n",
       "</div>"
      ],
      "text/plain": [
       "   id   country                                        description  \\\n",
       "0   0     Italy  Aromas include tropical fruit, broom, brimston...   \n",
       "1   1  Portugal  This is ripe and fruity, a wine that is smooth...   \n",
       "2   2        US  Tart and snappy, the flavors of lime flesh and...   \n",
       "3   3        US  Pineapple rind, lemon pith and orange blossom ...   \n",
       "4   4        US  Much like the regular bottling from 2012, this...   \n",
       "\n",
       "                          designation  points  price           province  \\\n",
       "0                       VulkÌÊ Bianco      87    NaN  Sicily & Sardinia   \n",
       "1                            Avidagos      87   15.0              Douro   \n",
       "2                                 NaN      87   14.0             Oregon   \n",
       "3                Reserve Late Harvest      87   13.0           Michigan   \n",
       "4  Vintner's Reserve Wild Child Block      87   65.0             Oregon   \n",
       "\n",
       "              region_1           region_2         taster_name  \\\n",
       "0                 Etna                NaN     Kerin OÛªKeefe   \n",
       "1                  NaN                NaN          Roger Voss   \n",
       "2    Willamette Valley  Willamette Valley        Paul Gregutt   \n",
       "3  Lake Michigan Shore                NaN  Alexander Peartree   \n",
       "4    Willamette Valley  Willamette Valley        Paul Gregutt   \n",
       "\n",
       "  taster_twitter_handle                                              title  \\\n",
       "0          @kerinokeefe                 Nicosia 2013 VulkÌÊ Bianco  (Etna)   \n",
       "1            @vossroger      Quinta dos Avidagos 2011 Avidagos Red (Douro)   \n",
       "2          @paulgwineåÊ      Rainstorm 2013 Pinot Gris (Willamette Valley)   \n",
       "3                   NaN  St. Julian 2013 Reserve Late Harvest Riesling ...   \n",
       "4          @paulgwineåÊ  Sweet Cheeks 2012 Vintner's Reserve Wild Child...   \n",
       "\n",
       "          variety               winery  \n",
       "0     White Blend              Nicosia  \n",
       "1  Portuguese Red  Quinta dos Avidagos  \n",
       "2      Pinot Gris            Rainstorm  \n",
       "3        Riesling           St. Julian  \n",
       "4      Pinot Noir         Sweet Cheeks  "
      ]
     },
     "execution_count": 2,
     "metadata": {},
     "output_type": "execute_result"
    }
   ],
   "source": [
    "import pandas as pd\n",
    "wines=pd.read_csv(\"/Users/VickyWu/Desktop/wine-reviews/winev2.csv\",encoding='latin-1')\n",
    "wines.head()"
   ]
  },
  {
   "cell_type": "markdown",
   "metadata": {},
   "source": [
    "# Question1 Histogram of the ratings of wine"
   ]
  },
  {
   "cell_type": "code",
   "execution_count": 4,
   "metadata": {
    "scrolled": true
   },
   "outputs": [
    {
     "data": {
      "image/png": "[encoded data removed]",
      "text/plain": [
       "<Figure size 432x288 with 1 Axes>"
      ]
     },
     "metadata": {
      "needs_background": "light"
     },
     "output_type": "display_data"
    }
   ],
   "source": [
    "import matplotlib.pyplot as plt\n",
    "plt.hist(wines[\"points\"],bins=20,color=\"blue\")\n",
    "plt.xlabel(\"wine ratings\")\n",
    "plt.ylabel(\"count\")\n",
    "plt.show()"
   ]
  },
  {
   "cell_type": "markdown",
   "metadata": {},
   "source": [
    "# Q2 Barplot average scores grouped by wine type"
   ]
  },
  {
   "cell_type": "code",
   "execution_count": 6,
   "metadata": {
    "scrolled": true
   },
   "outputs": [
    {
     "data": {
      "image/png": "[encoded data removed]",
      "text/plain": [
       "<Figure size 432x288 with 1 Axes>"
      ]
     },
     "metadata": {
      "needs_background": "light"
     },
     "output_type": "display_data"
    }
   ],
   "source": [
    "df1=wines.groupby([\"variety\"])[\"points\"].mean()\n",
    "#plot 20 varities \n",
    "df1.sample(n=20).plot(kind=\"bar\", color=\"pink\")\n",
    "plt.ylabel(\"average wine ratings\")\n",
    "plt.show()"
   ]
  },
  {
   "cell_type": "markdown",
   "metadata": {},
   "source": [
    "# Q3 Scatter plot showing mean scores of wine type and number of reviews"
   ]
  },
  {
   "cell_type": "code",
   "execution_count": 159,
   "metadata": {},
   "outputs": [
    {
     "data": {
      "image/png": "[encoded data removed]",
      "text/plain": [
       "<Figure size 432x288 with 1 Axes>"
      ]
     },
     "metadata": {
      "needs_background": "light"
     },
     "output_type": "display_data"
    }
   ],
   "source": [
    "wine_by_points=wines.groupby([\"variety\"])[[\"points\"]].mean()\n",
    "wine_by_number_of_reviews=wines.groupby(['variety'])['variety'].count()\n",
    "plt.scatter(x=wine_by_number_of_reviews, y=wine_by_points, color=\"green\")\n",
    "plt.xlabel(\"number of reviews\")\n",
    "plt.ylabel(\"average wine ratings\")\n",
    "plt.show()"
   ]
  },
  {
   "cell_type": "markdown",
   "metadata": {},
   "source": [
    "# Q4 Pie chart showing type of wines by percentage reviewed"
   ]
  },
  {
   "cell_type": "code",
   "execution_count": 230,
   "metadata": {},
   "outputs": [
    {
     "data": {
      "image/png": "[encoded data removed]",
      "text/plain": [
       "<Figure size 432x288 with 1 Axes>"
      ]
     },
     "metadata": {},
     "output_type": "display_data"
    }
   ],
   "source": [
    "import numpy as np\n",
    "#plot 5 wine types\n",
    "slices=wines.groupby(['variety'])['variety'].count().sort_values(ascending=False)[:5]\n",
    "slices.plot.pie(autopct='%1.1f%%')\n",
    "plt.legend(loc=\"center left\", bbox_to_anchor=(-1,1))\n",
    "plt.show()"
   ]
  },
  {
   "cell_type": "markdown",
   "metadata": {},
   "source": [
    "# Q5 Who reviewed the most wine?"
   ]
  },
  {
   "cell_type": "code",
   "execution_count": 139,
   "metadata": {},
   "outputs": [
    {
     "name": "stdout",
     "output_type": "stream",
     "text": [
      "Roger Voss\n"
     ]
    }
   ],
   "source": [
    "ds=wines.groupby([\"taster_name\"])[\"taster_name\"].count()\n",
    "\n",
    "print(ds.idxmax())\n"
   ]
  },
  {
   "cell_type": "markdown",
   "metadata": {},
   "source": [
    "# Q6 Top 10 wine reviewers by twitter handle"
   ]
  },
  {
   "cell_type": "code",
   "execution_count": 269,
   "metadata": {},
   "outputs": [
    {
     "data": {
      "text/plain": [
       "@vossroger          25514\n",
       "@wineschach         15134\n",
       "@kerinokeefe        10776\n",
       "@vboone              9537\n",
       "@paulgwineåÊ         9532\n",
       "@mattkettmann        6332\n",
       "@JoeCz               5147\n",
       "@wawinereport        4966\n",
       "@gordone_cellars     4177\n",
       "@AnneInVino          3685\n",
       "Name: taster_twitter_handle, dtype: int64"
      ]
     },
     "execution_count": 269,
     "metadata": {},
     "output_type": "execute_result"
    }
   ],
   "source": [
    "wines.taster_twitter_handle.value_counts().sort_values(ascending=False)[:10]"
   ]
  },
  {
   "cell_type": "markdown",
   "metadata": {},
   "source": [
    "# Q7 Average price of wine by country"
   ]
  },
  {
   "cell_type": "code",
   "execution_count": 9,
   "metadata": {},
   "outputs": [
    {
     "data": {
      "text/plain": [
       "country\n",
       "Ukraine                    9.214286\n",
       "Bosnia and Herzegovina    12.500000\n",
       "India                     13.333333\n",
       "Armenia                   14.500000\n",
       "Bulgaria                  14.645390\n",
       "Romania                   15.241667\n",
       "Macedonia                 15.583333\n",
       "Slovakia                  16.000000\n",
       "Cyprus                    16.272727\n",
       "Moldova                   16.745763\n",
       "China                     18.000000\n",
       "Peru                      18.062500\n",
       "Georgia                   19.321429\n",
       "Morocco                   19.500000\n",
       "Chile                     20.786458\n",
       "Greece                    22.364425\n",
       "Luxembourg                23.333333\n",
       "Brazil                    23.765957\n",
       "Czech Republic            24.250000\n",
       "Serbia                    24.500000\n",
       "Argentina                 24.510117\n",
       "Turkey                    24.633333\n",
       "South Africa              24.668987\n",
       "Slovenia                  24.812500\n",
       "Croatia                   25.450704\n",
       "Portugal                  26.218256\n",
       "Uruguay                   26.403670\n",
       "Mexico                    26.785714\n",
       "New Zealand               26.931785\n",
       "Spain                     28.215275\n",
       "Lebanon                   30.685714\n",
       "Austria                   30.762772\n",
       "Israel                    31.768916\n",
       "Australia                 35.437663\n",
       "Canada                    35.712598\n",
       "US                        36.573464\n",
       "Italy                     39.663770\n",
       "Hungary                   40.648276\n",
       "France                    41.139120\n",
       "Germany                   42.257547\n",
       "England                   51.681159\n",
       "Switzerland               85.285714\n",
       "Egypt                           NaN\n",
       "Name: price, dtype: float64"
      ]
     },
     "execution_count": 9,
     "metadata": {},
     "output_type": "execute_result"
    }
   ],
   "source": [
    "ds2=wines.groupby(['country'])['price'].mean()\n",
    "ds2.sort_values()"
   ]
  },
  {
   "cell_type": "markdown",
   "metadata": {},
   "source": [
    "# Q8 Which 10 varieties were mostly reviewed, show a barplot\n"
   ]
  },
  {
   "cell_type": "code",
   "execution_count": 11,
   "metadata": {},
   "outputs": [
    {
     "name": "stdout",
     "output_type": "stream",
     "text": [
      "Index(['Pinot Noir', 'Chardonnay', 'Cabernet Sauvignon', 'Red Blend',\n",
      "       'Bordeaux-style Red Blend', 'Riesling', 'Sauvignon Blanc', 'Syrah',\n",
      "       'RosÌ©', 'Merlot'],\n",
      "      dtype='object', name='variety')\n"
     ]
    },
    {
     "data": {
      "image/png": "[encoded data removed]",
      "text/plain": [
       "<Figure size 432x288 with 1 Axes>"
      ]
     },
     "metadata": {
      "needs_background": "light"
     },
     "output_type": "display_data"
    }
   ],
   "source": [
    "import matplotlib.pyplot as plt\n",
    "ds3=wines.groupby(['variety'])[\"variety\"].count().sort_values(ascending=False)[0:10]\n",
    "print(ds3.index)\n",
    "colors=np.random.sample((10,3))\n",
    "ds3.plot(kind=\"bar\", color=colors)\n",
    "plt.show()"
   ]
  },
  {
   "cell_type": "markdown",
   "metadata": {},
   "source": [
    "# Q9 Which variety has the highest ratings (by means); Which variety is the most expensive and which is the least expensive (by means)?"
   ]
  },
  {
   "cell_type": "code",
   "execution_count": 156,
   "metadata": {},
   "outputs": [
    {
     "name": "stdout",
     "output_type": "stream",
     "text": [
      "The highest rated wine is:Gelber Traminer\n",
      "The most expensive wine is:Ramisco\n",
      "The cheapeast wine is:Trajadura\n"
     ]
    }
   ],
   "source": [
    "wines_average_ratings=wines.groupby([\"variety\"])[\"points\"].mean()\n",
    "print(\"The highest rated wine is:\" + wines_average_ratings.idxmax())\n",
    "wines_price=wines.groupby([\"variety\"])[\"price\"].mean()\n",
    "print(\"The most expensive wine is:\" + wines_price.idxmax())\n",
    "print(\"The cheapeast wine is:\" + wines_price.idxmin())"
   ]
  },
  {
   "cell_type": "markdown",
   "metadata": {},
   "source": [
    "# Q10 Find out the means of price for each country’s wine and plot the means "
   ]
  },
  {
   "cell_type": "code",
   "execution_count": 162,
   "metadata": {},
   "outputs": [
    {
     "data": {
      "image/png": "[encoded data removed]",
      "text/plain": [
       "<Figure size 432x288 with 1 Axes>"
      ]
     },
     "metadata": {
      "needs_background": "light"
     },
     "output_type": "display_data"
    }
   ],
   "source": [
    "wineprice_country=wines.groupby([\"country\"])[\"price\"].mean()\n",
    "wineprice_country.plot(kind=\"bar\")\n",
    "plt.ylabel(\"average price of wines\")\n",
    "plt.show()"
   ]
  },
  {
   "cell_type": "markdown",
   "metadata": {},
   "source": [
    "# Q11 Find out the mean of wine ratings for each variety grouped by province and list the best rated wine variety for each province."
   ]
  },
  {
   "cell_type": "code",
   "execution_count": 146,
   "metadata": {
    "scrolled": true
   },
   "outputs": [
    {
     "data": {
      "text/html": [
       "<div>\n",
       "<style scoped>\n",
       "    .dataframe tbody tr th:only-of-type {\n",
       "        vertical-align: middle;\n",
       "    }\n",
       "\n",
       "    .dataframe tbody tr th {\n",
       "        vertical-align: top;\n",
       "    }\n",
       "\n",
       "    .dataframe thead th {\n",
       "        text-align: right;\n",
       "    }\n",
       "</style>\n",
       "<table border=\"1\" class=\"dataframe\">\n",
       "  <thead>\n",
       "    <tr style=\"text-align: right;\">\n",
       "      <th></th>\n",
       "      <th>province</th>\n",
       "      <th>variety</th>\n",
       "      <th>points</th>\n",
       "    </tr>\n",
       "  </thead>\n",
       "  <tbody>\n",
       "    <tr>\n",
       "      <th>2</th>\n",
       "      <td>Achaia</td>\n",
       "      <td>RosÌ©</td>\n",
       "      <td>90.000000</td>\n",
       "    </tr>\n",
       "    <tr>\n",
       "      <th>5</th>\n",
       "      <td>Aconcagua Costa</td>\n",
       "      <td>CarmenÌ¬re</td>\n",
       "      <td>90.000000</td>\n",
       "    </tr>\n",
       "    <tr>\n",
       "      <th>10</th>\n",
       "      <td>Aconcagua Valley</td>\n",
       "      <td>Bordeaux-style Red Blend</td>\n",
       "      <td>91.800000</td>\n",
       "    </tr>\n",
       "    <tr>\n",
       "      <th>28</th>\n",
       "      <td>Aegean</td>\n",
       "      <td>Okuzgozu</td>\n",
       "      <td>92.000000</td>\n",
       "    </tr>\n",
       "    <tr>\n",
       "      <th>35</th>\n",
       "      <td>Agioritikos</td>\n",
       "      <td>Red Blend</td>\n",
       "      <td>87.000000</td>\n",
       "    </tr>\n",
       "    <tr>\n",
       "      <th>39</th>\n",
       "      <td>Ahr</td>\n",
       "      <td>SpÌ_tburgunder</td>\n",
       "      <td>91.000000</td>\n",
       "    </tr>\n",
       "    <tr>\n",
       "      <th>40</th>\n",
       "      <td>Alenquer</td>\n",
       "      <td>Portuguese Red</td>\n",
       "      <td>87.666667</td>\n",
       "    </tr>\n",
       "    <tr>\n",
       "      <th>48</th>\n",
       "      <td>Alentejano</td>\n",
       "      <td>Arinto</td>\n",
       "      <td>91.000000</td>\n",
       "    </tr>\n",
       "    <tr>\n",
       "      <th>80</th>\n",
       "      <td>Alentejo</td>\n",
       "      <td>Touriga Nacional</td>\n",
       "      <td>93.000000</td>\n",
       "    </tr>\n",
       "    <tr>\n",
       "      <th>83</th>\n",
       "      <td>Alenteo</td>\n",
       "      <td>Portuguese White</td>\n",
       "      <td>88.000000</td>\n",
       "    </tr>\n",
       "    <tr>\n",
       "      <th>84</th>\n",
       "      <td>Algarve</td>\n",
       "      <td>Portuguese Red</td>\n",
       "      <td>87.375000</td>\n",
       "    </tr>\n",
       "    <tr>\n",
       "      <th>99</th>\n",
       "      <td>Alsace</td>\n",
       "      <td>Red Blend</td>\n",
       "      <td>92.000000</td>\n",
       "    </tr>\n",
       "    <tr>\n",
       "      <th>111</th>\n",
       "      <td>America</td>\n",
       "      <td>Chenin Blanc</td>\n",
       "      <td>89.000000</td>\n",
       "    </tr>\n",
       "    <tr>\n",
       "      <th>131</th>\n",
       "      <td>Amindeo</td>\n",
       "      <td>Xinomavro</td>\n",
       "      <td>83.500000</td>\n",
       "    </tr>\n",
       "    <tr>\n",
       "      <th>132</th>\n",
       "      <td>Amyndeon</td>\n",
       "      <td>Xinomavro</td>\n",
       "      <td>86.600000</td>\n",
       "    </tr>\n",
       "    <tr>\n",
       "      <th>140</th>\n",
       "      <td>Andalucia</td>\n",
       "      <td>Pedro XimÌ©nez</td>\n",
       "      <td>91.030303</td>\n",
       "    </tr>\n",
       "    <tr>\n",
       "      <th>145</th>\n",
       "      <td>Ankara</td>\n",
       "      <td>BoÙazkere</td>\n",
       "      <td>91.000000</td>\n",
       "    </tr>\n",
       "    <tr>\n",
       "      <th>153</th>\n",
       "      <td>Apalta</td>\n",
       "      <td>MourvÌ¬dre</td>\n",
       "      <td>92.000000</td>\n",
       "    </tr>\n",
       "    <tr>\n",
       "      <th>156</th>\n",
       "      <td>Arcadia</td>\n",
       "      <td>Agiorgitiko</td>\n",
       "      <td>87.000000</td>\n",
       "    </tr>\n",
       "    <tr>\n",
       "      <th>161</th>\n",
       "      <td>Arizona</td>\n",
       "      <td>Petite Sirah</td>\n",
       "      <td>86.500000</td>\n",
       "    </tr>\n",
       "    <tr>\n",
       "      <th>173</th>\n",
       "      <td>Armenia</td>\n",
       "      <td>RosÌ©</td>\n",
       "      <td>88.000000</td>\n",
       "    </tr>\n",
       "    <tr>\n",
       "      <th>174</th>\n",
       "      <td>Atalanti Valley</td>\n",
       "      <td>Assyrtiko</td>\n",
       "      <td>91.000000</td>\n",
       "    </tr>\n",
       "    <tr>\n",
       "      <th>182</th>\n",
       "      <td>Atlantida</td>\n",
       "      <td>White Blend</td>\n",
       "      <td>87.000000</td>\n",
       "    </tr>\n",
       "    <tr>\n",
       "      <th>185</th>\n",
       "      <td>Attica</td>\n",
       "      <td>Malagousia</td>\n",
       "      <td>90.000000</td>\n",
       "    </tr>\n",
       "    <tr>\n",
       "      <th>212</th>\n",
       "      <td>Australia Other</td>\n",
       "      <td>White Blend</td>\n",
       "      <td>90.000000</td>\n",
       "    </tr>\n",
       "    <tr>\n",
       "      <th>221</th>\n",
       "      <td>Austria</td>\n",
       "      <td>Rosenmuskateller</td>\n",
       "      <td>92.500000</td>\n",
       "    </tr>\n",
       "    <tr>\n",
       "      <th>232</th>\n",
       "      <td>Awatere Valley</td>\n",
       "      <td>Pinot Noir</td>\n",
       "      <td>89.333333</td>\n",
       "    </tr>\n",
       "    <tr>\n",
       "      <th>234</th>\n",
       "      <td>Baden</td>\n",
       "      <td>Auxerrois</td>\n",
       "      <td>91.000000</td>\n",
       "    </tr>\n",
       "    <tr>\n",
       "      <th>262</th>\n",
       "      <td>Bairrada</td>\n",
       "      <td>Touriga Nacional</td>\n",
       "      <td>92.250000</td>\n",
       "    </tr>\n",
       "    <tr>\n",
       "      <th>266</th>\n",
       "      <td>Beaujolais</td>\n",
       "      <td>Gamay</td>\n",
       "      <td>88.083080</td>\n",
       "    </tr>\n",
       "    <tr>\n",
       "      <th>...</th>\n",
       "      <td>...</td>\n",
       "      <td>...</td>\n",
       "      <td>...</td>\n",
       "    </tr>\n",
       "    <tr>\n",
       "      <th>3755</th>\n",
       "      <td>Vinho Verde</td>\n",
       "      <td>Alvarinho</td>\n",
       "      <td>89.689189</td>\n",
       "    </tr>\n",
       "    <tr>\n",
       "      <th>3770</th>\n",
       "      <td>Vinho da Mesa</td>\n",
       "      <td>Portuguese Red</td>\n",
       "      <td>91.000000</td>\n",
       "    </tr>\n",
       "    <tr>\n",
       "      <th>3773</th>\n",
       "      <td>Vipavska Dolina</td>\n",
       "      <td>Merlot-Cabernet Franc</td>\n",
       "      <td>90.000000</td>\n",
       "    </tr>\n",
       "    <tr>\n",
       "      <th>3784</th>\n",
       "      <td>Virginia</td>\n",
       "      <td>Cabernet Sauvignon-Merlot</td>\n",
       "      <td>92.000000</td>\n",
       "    </tr>\n",
       "    <tr>\n",
       "      <th>3830</th>\n",
       "      <td>Vlootenburg</td>\n",
       "      <td>Syrah</td>\n",
       "      <td>85.000000</td>\n",
       "    </tr>\n",
       "    <tr>\n",
       "      <th>3831</th>\n",
       "      <td>VÌ¢nju Mare</td>\n",
       "      <td>Riesling</td>\n",
       "      <td>85.000000</td>\n",
       "    </tr>\n",
       "    <tr>\n",
       "      <th>3845</th>\n",
       "      <td>Wachau</td>\n",
       "      <td>Weissburgunder</td>\n",
       "      <td>93.000000</td>\n",
       "    </tr>\n",
       "    <tr>\n",
       "      <th>3849</th>\n",
       "      <td>Wagram</td>\n",
       "      <td>Pinot Noir</td>\n",
       "      <td>94.500000</td>\n",
       "    </tr>\n",
       "    <tr>\n",
       "      <th>3859</th>\n",
       "      <td>Wagram-Donauland</td>\n",
       "      <td>Red Blend</td>\n",
       "      <td>93.000000</td>\n",
       "    </tr>\n",
       "    <tr>\n",
       "      <th>3864</th>\n",
       "      <td>Waiheke Island</td>\n",
       "      <td>Bordeaux-style Red Blend</td>\n",
       "      <td>92.000000</td>\n",
       "    </tr>\n",
       "    <tr>\n",
       "      <th>3869</th>\n",
       "      <td>Waipara</td>\n",
       "      <td>Cabernet Sauvignon-Merlot</td>\n",
       "      <td>92.000000</td>\n",
       "    </tr>\n",
       "    <tr>\n",
       "      <th>3877</th>\n",
       "      <td>Waipara Valley</td>\n",
       "      <td>Pinot Noir</td>\n",
       "      <td>90.250000</td>\n",
       "    </tr>\n",
       "    <tr>\n",
       "      <th>3881</th>\n",
       "      <td>Wairarapa</td>\n",
       "      <td>Pinot Noir</td>\n",
       "      <td>88.100000</td>\n",
       "    </tr>\n",
       "    <tr>\n",
       "      <th>3884</th>\n",
       "      <td>Wairau Valley</td>\n",
       "      <td>Sauvignon Blanc</td>\n",
       "      <td>88.800000</td>\n",
       "    </tr>\n",
       "    <tr>\n",
       "      <th>3885</th>\n",
       "      <td>Waitaki Valley</td>\n",
       "      <td>Pinot Noir</td>\n",
       "      <td>90.500000</td>\n",
       "    </tr>\n",
       "    <tr>\n",
       "      <th>3892</th>\n",
       "      <td>Walker Bay</td>\n",
       "      <td>Shiraz-Cabernet Sauvignon</td>\n",
       "      <td>92.000000</td>\n",
       "    </tr>\n",
       "    <tr>\n",
       "      <th>3931</th>\n",
       "      <td>Washington</td>\n",
       "      <td>Grenache-Syrah</td>\n",
       "      <td>93.000000</td>\n",
       "    </tr>\n",
       "    <tr>\n",
       "      <th>4004</th>\n",
       "      <td>Washington-Oregon</td>\n",
       "      <td>Chardonnay</td>\n",
       "      <td>89.000000</td>\n",
       "    </tr>\n",
       "    <tr>\n",
       "      <th>4011</th>\n",
       "      <td>Weinland ÌÐsterreich</td>\n",
       "      <td>Riesling</td>\n",
       "      <td>92.000000</td>\n",
       "    </tr>\n",
       "    <tr>\n",
       "      <th>4015</th>\n",
       "      <td>Weinviertel</td>\n",
       "      <td>Chardonnay</td>\n",
       "      <td>92.000000</td>\n",
       "    </tr>\n",
       "    <tr>\n",
       "      <th>4021</th>\n",
       "      <td>Wellington</td>\n",
       "      <td>Pinotage</td>\n",
       "      <td>90.250000</td>\n",
       "    </tr>\n",
       "    <tr>\n",
       "      <th>4032</th>\n",
       "      <td>Western Australia</td>\n",
       "      <td>Malbec</td>\n",
       "      <td>91.000000</td>\n",
       "    </tr>\n",
       "    <tr>\n",
       "      <th>4065</th>\n",
       "      <td>Western Cape</td>\n",
       "      <td>Semillon-Sauvignon Blanc</td>\n",
       "      <td>90.500000</td>\n",
       "    </tr>\n",
       "    <tr>\n",
       "      <th>4073</th>\n",
       "      <td>Wiener Gemischter Satz</td>\n",
       "      <td>Austrian white blend</td>\n",
       "      <td>91.000000</td>\n",
       "    </tr>\n",
       "    <tr>\n",
       "      <th>4080</th>\n",
       "      <td>WÌ_rttemberg</td>\n",
       "      <td>Trollinger</td>\n",
       "      <td>90.500000</td>\n",
       "    </tr>\n",
       "    <tr>\n",
       "      <th>4086</th>\n",
       "      <td>Zenata</td>\n",
       "      <td>Syrah</td>\n",
       "      <td>89.750000</td>\n",
       "    </tr>\n",
       "    <tr>\n",
       "      <th>4088</th>\n",
       "      <td>_upa</td>\n",
       "      <td>Red Blend</td>\n",
       "      <td>89.000000</td>\n",
       "    </tr>\n",
       "    <tr>\n",
       "      <th>4091</th>\n",
       "      <td>Êtajerska</td>\n",
       "      <td>Chardonnay</td>\n",
       "      <td>90.000000</td>\n",
       "    </tr>\n",
       "    <tr>\n",
       "      <th>4104</th>\n",
       "      <td>ÌÐsterreichischer Perlwein</td>\n",
       "      <td>Sparkling Blend</td>\n",
       "      <td>87.000000</td>\n",
       "    </tr>\n",
       "    <tr>\n",
       "      <th>4110</th>\n",
       "      <td>ÌÐsterreichischer Sekt</td>\n",
       "      <td>Chardonnay</td>\n",
       "      <td>92.666667</td>\n",
       "    </tr>\n",
       "  </tbody>\n",
       "</table>\n",
       "<p>425 rows × 3 columns</p>\n",
       "</div>"
      ],
      "text/plain": [
       "                        province                    variety     points\n",
       "2                         Achaia                      RosÌ©  90.000000\n",
       "5                Aconcagua Costa                 CarmenÌ¬re  90.000000\n",
       "10              Aconcagua Valley   Bordeaux-style Red Blend  91.800000\n",
       "28                        Aegean                   Okuzgozu  92.000000\n",
       "35                   Agioritikos                  Red Blend  87.000000\n",
       "39                           Ahr             SpÌ_tburgunder  91.000000\n",
       "40                      Alenquer             Portuguese Red  87.666667\n",
       "48                    Alentejano                     Arinto  91.000000\n",
       "80                      Alentejo           Touriga Nacional  93.000000\n",
       "83                       Alenteo           Portuguese White  88.000000\n",
       "84                       Algarve             Portuguese Red  87.375000\n",
       "99                        Alsace                  Red Blend  92.000000\n",
       "111                      America               Chenin Blanc  89.000000\n",
       "131                      Amindeo                  Xinomavro  83.500000\n",
       "132                     Amyndeon                  Xinomavro  86.600000\n",
       "140                    Andalucia             Pedro XimÌ©nez  91.030303\n",
       "145                       Ankara                 BoÙazkere  91.000000\n",
       "153                       Apalta                 MourvÌ¬dre  92.000000\n",
       "156                      Arcadia                Agiorgitiko  87.000000\n",
       "161                      Arizona               Petite Sirah  86.500000\n",
       "173                      Armenia                      RosÌ©  88.000000\n",
       "174              Atalanti Valley                  Assyrtiko  91.000000\n",
       "182                    Atlantida                White Blend  87.000000\n",
       "185                       Attica                 Malagousia  90.000000\n",
       "212              Australia Other                White Blend  90.000000\n",
       "221                      Austria           Rosenmuskateller  92.500000\n",
       "232               Awatere Valley                 Pinot Noir  89.333333\n",
       "234                        Baden                  Auxerrois  91.000000\n",
       "262                     Bairrada           Touriga Nacional  92.250000\n",
       "266                   Beaujolais                      Gamay  88.083080\n",
       "...                          ...                        ...        ...\n",
       "3755                 Vinho Verde                  Alvarinho  89.689189\n",
       "3770               Vinho da Mesa             Portuguese Red  91.000000\n",
       "3773             Vipavska Dolina      Merlot-Cabernet Franc  90.000000\n",
       "3784                    Virginia  Cabernet Sauvignon-Merlot  92.000000\n",
       "3830                 Vlootenburg                      Syrah  85.000000\n",
       "3831                 VÌ¢nju Mare                   Riesling  85.000000\n",
       "3845                      Wachau             Weissburgunder  93.000000\n",
       "3849                      Wagram                 Pinot Noir  94.500000\n",
       "3859            Wagram-Donauland                  Red Blend  93.000000\n",
       "3864              Waiheke Island   Bordeaux-style Red Blend  92.000000\n",
       "3869                     Waipara  Cabernet Sauvignon-Merlot  92.000000\n",
       "3877              Waipara Valley                 Pinot Noir  90.250000\n",
       "3881                   Wairarapa                 Pinot Noir  88.100000\n",
       "3884               Wairau Valley            Sauvignon Blanc  88.800000\n",
       "3885              Waitaki Valley                 Pinot Noir  90.500000\n",
       "3892                  Walker Bay  Shiraz-Cabernet Sauvignon  92.000000\n",
       "3931                  Washington             Grenache-Syrah  93.000000\n",
       "4004           Washington-Oregon                 Chardonnay  89.000000\n",
       "4011        Weinland ÌÐsterreich                   Riesling  92.000000\n",
       "4015                 Weinviertel                 Chardonnay  92.000000\n",
       "4021                  Wellington                   Pinotage  90.250000\n",
       "4032           Western Australia                     Malbec  91.000000\n",
       "4065                Western Cape   Semillon-Sauvignon Blanc  90.500000\n",
       "4073      Wiener Gemischter Satz       Austrian white blend  91.000000\n",
       "4080                WÌ_rttemberg                 Trollinger  90.500000\n",
       "4086                      Zenata                      Syrah  89.750000\n",
       "4088                       _upa                  Red Blend  89.000000\n",
       "4091                  Êtajerska                 Chardonnay  90.000000\n",
       "4104  ÌÐsterreichischer Perlwein            Sparkling Blend  87.000000\n",
       "4110      ÌÐsterreichischer Sekt                 Chardonnay  92.666667\n",
       "\n",
       "[425 rows x 3 columns]"
      ]
     },
     "execution_count": 146,
     "metadata": {},
     "output_type": "execute_result"
    }
   ],
   "source": [
    "#Method1\n",
    "points=wines.groupby([\"province\", \"variety\"]).points.mean().groupby(['province']).agg([\"max\",\"idxmax\"])\n",
    "points\n",
    "#Method2\n",
    "x=wines.groupby([\"province\", \"variety\"]).points.mean()\n",
    "x_df = x.unstack()\n",
    "x_df.agg([\"max\",\"idxmax\"],axis=1)\n",
    "#Method3 \n",
    "means=wines.groupby(['province','variety'],as_index=False).points.mean()\n",
    "means.sort_values(['province','points'],ascending=[1,0]).groupby('province').head(1)"
   ]
  },
  {
   "cell_type": "markdown",
   "metadata": {},
   "source": [
    "# Q11 Scatter plot the mean of wine points and the mean wine prices and adjust the size of the bubble by the mean price of that variety (the more expensive the bigger the bubble), add colors"
   ]
  },
  {
   "cell_type": "code",
   "execution_count": 171,
   "metadata": {
    "scrolled": true
   },
   "outputs": [
    {
     "data": {
      "image/png": "[encoded data removed]",
      "text/plain": [
       "<Figure size 432x288 with 1 Axes>"
      ]
     },
     "metadata": {
      "needs_background": "light"
     },
     "output_type": "display_data"
    }
   ],
   "source": [
    "x=wines.groupby(['variety'])['price'].mean()\n",
    "y=wines.groupby(['variety'])['points'].mean()\n",
    "s=wines.groupby(['variety'])['price'].mean()\n",
    "colors=np.random.sample((len(x),3))\n",
    "plt.scatter(x=x,y=y,s=s,color=colors)\n",
    "plt.xlabel(\"average wine price\")\n",
    "plt.ylabel(\"average wine ratings\")\n",
    "plt.show()\n"
   ]
  },
  {
   "cell_type": "markdown",
   "metadata": {},
   "source": [
    "# Q12 If you want to open a winery in California and you want to stock 5 best rated wines under than $50, which 5 wines will you choose? Show the wines’ titles, description, region1 and variety"
   ]
  },
  {
   "cell_type": "code",
   "execution_count": 147,
   "metadata": {},
   "outputs": [
    {
     "data": {
      "text/html": [
       "<div>\n",
       "<style scoped>\n",
       "    .dataframe tbody tr th:only-of-type {\n",
       "        vertical-align: middle;\n",
       "    }\n",
       "\n",
       "    .dataframe tbody tr th {\n",
       "        vertical-align: top;\n",
       "    }\n",
       "\n",
       "    .dataframe thead th {\n",
       "        text-align: right;\n",
       "    }\n",
       "</style>\n",
       "<table border=\"1\" class=\"dataframe\">\n",
       "  <thead>\n",
       "    <tr style=\"text-align: right;\">\n",
       "      <th></th>\n",
       "      <th>title</th>\n",
       "      <th>description</th>\n",
       "      <th>region_1</th>\n",
       "      <th>variety</th>\n",
       "    </tr>\n",
       "  </thead>\n",
       "  <tbody>\n",
       "    <tr>\n",
       "      <th>118059</th>\n",
       "      <td>Failla 2010 Estate Vineyard Chardonnay (Sonoma...</td>\n",
       "      <td>Shows classic, full-throttle notes of tropical...</td>\n",
       "      <td>Sonoma Coast</td>\n",
       "      <td>Chardonnay</td>\n",
       "    </tr>\n",
       "    <tr>\n",
       "      <th>114981</th>\n",
       "      <td>Donkey &amp; Goat 2010 Fenaughty Vineyard Syrah (E...</td>\n",
       "      <td>A seriously top of the heap California Syrah. ...</td>\n",
       "      <td>El Dorado</td>\n",
       "      <td>Syrah</td>\n",
       "    </tr>\n",
       "    <tr>\n",
       "      <th>15851</th>\n",
       "      <td>Stolo 2014 Estate Syrah (San Luis Obispo County)</td>\n",
       "      <td>This is possibly the most savory rendition of ...</td>\n",
       "      <td>San Luis Obispo County</td>\n",
       "      <td>Syrah</td>\n",
       "    </tr>\n",
       "    <tr>\n",
       "      <th>26892</th>\n",
       "      <td>Iron Horse 2012 Wedding CuvÌ©e Estate Bottled ...</td>\n",
       "      <td>An offering meant to toast all manner of celeb...</td>\n",
       "      <td>Green Valley</td>\n",
       "      <td>Sparkling Blend</td>\n",
       "    </tr>\n",
       "    <tr>\n",
       "      <th>34505</th>\n",
       "      <td>Williams Selyem 2007 Late Harvest Muscat (Russ...</td>\n",
       "      <td>The winery's philosophy is, if you're going to...</td>\n",
       "      <td>Russian River Valley</td>\n",
       "      <td>Muscat</td>\n",
       "    </tr>\n",
       "  </tbody>\n",
       "</table>\n",
       "</div>"
      ],
      "text/plain": [
       "                                                    title  \\\n",
       "118059  Failla 2010 Estate Vineyard Chardonnay (Sonoma...   \n",
       "114981  Donkey & Goat 2010 Fenaughty Vineyard Syrah (E...   \n",
       "15851    Stolo 2014 Estate Syrah (San Luis Obispo County)   \n",
       "26892   Iron Horse 2012 Wedding CuvÌ©e Estate Bottled ...   \n",
       "34505   Williams Selyem 2007 Late Harvest Muscat (Russ...   \n",
       "\n",
       "                                              description  \\\n",
       "118059  Shows classic, full-throttle notes of tropical...   \n",
       "114981  A seriously top of the heap California Syrah. ...   \n",
       "15851   This is possibly the most savory rendition of ...   \n",
       "26892   An offering meant to toast all manner of celeb...   \n",
       "34505   The winery's philosophy is, if you're going to...   \n",
       "\n",
       "                      region_1          variety  \n",
       "118059            Sonoma Coast       Chardonnay  \n",
       "114981               El Dorado            Syrah  \n",
       "15851   San Luis Obispo County            Syrah  \n",
       "26892             Green Valley  Sparkling Blend  \n",
       "34505     Russian River Valley           Muscat  "
      ]
     },
     "execution_count": 147,
     "metadata": {},
     "output_type": "execute_result"
    }
   ],
   "source": [
    "wines_cali=wines.loc[wines.province==\"California\"]\n",
    "cheap_wine_cali=wines_cali.loc[wines_cali.price<50]\n",
    "caliwine_ratings=cheap_wine_cali.sort_values(\"points\",ascending=False)\n",
    "#print(caliwine_ratings.iloc[0:5])\n",
    "best5_cheap_cali=caliwine_ratings.iloc[0:5]\n",
    "best5_cheap_cali[['title','description','region_1','variety']]"
   ]
  }
 ],
 "metadata": {
  "kernelspec": {
   "display_name": "Python 3",
   "language": "python",
   "name": "python3"
  },
  "language_info": {
   "codemirror_mode": {
    "name": "ipython",
    "version": 3
   },
   "file_extension": ".py",
   "mimetype": "text/x-python",
   "name": "python",
   "nbconvert_exporter": "python",
   "pygments_lexer": "ipython3",
   "version": "3.7.2"
  },
  "varInspector": {
   "cols": {
    "lenName": 16,
    "lenType": 16,
    "lenVar": 40
   },
   "kernels_config": {
    "python": {
     "delete_cmd_postfix": "",
     "delete_cmd_prefix": "del ",
     "library": "var_list.py",
     "varRefreshCmd": "print(var_dic_list())"
    },
    "r": {
     "delete_cmd_postfix": ") ",
     "delete_cmd_prefix": "rm(",
     "library": "var_list.r",
     "varRefreshCmd": "cat(var_dic_list()) "
    }
   },
   "types_to_exclude": [
    "module",
    "function",
    "builtin_function_or_method",
    "instance",
    "_Feature"
   ],
   "window_display": false
  }
 },
 "nbformat": 4,
 "nbformat_minor": 2
}
